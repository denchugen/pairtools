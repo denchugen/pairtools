{
 "cells": [
  {
   "cell_type": "code",
   "execution_count": 1,
   "metadata": {},
   "outputs": [],
   "source": [
    "from pairtools._parse import ends_do_overlap, pairs_do_overlap, rescue_complex_walk"
   ]
  },
  {
   "cell_type": "code",
   "execution_count": 2,
   "metadata": {},
   "outputs": [],
   "source": [
    "def report_simple_pairsam(algn1, algn2, add_columns=['pos5', 'pos3']):\n",
    "    cols = [\n",
    "        '.',\n",
    "        algn1['chrom'],\n",
    "        str(algn1['pos']),\n",
    "        algn2['chrom'],\n",
    "        str(algn2['pos']),\n",
    "        algn1['strand'],\n",
    "        algn2['strand'],\n",
    "        algn1['type'] + algn2['type']\n",
    "    ]\n",
    "\n",
    "    for col in add_columns:\n",
    "        cols.append(str(algn1.get(col, '')))\n",
    "        cols.append(str(algn2.get(col, '')))\n",
    "\n",
    "    return(' '.join(cols))"
   ]
  },
  {
   "cell_type": "code",
   "execution_count": 3,
   "metadata": {},
   "outputs": [],
   "source": [
    "max_molecule_size = 500\n",
    "allowed_offset = 0"
   ]
  },
  {
   "cell_type": "markdown",
   "metadata": {},
   "source": [
    "### Test case 1\n",
    "\n",
    "<img src=\"TestCase1.png\" width=\"70%\" />"
   ]
  },
  {
   "cell_type": "code",
   "execution_count": 4,
   "metadata": {},
   "outputs": [],
   "source": [
    "algns1 = [\n",
    "    {'chrom': 'chr1', 'pos':100, 'pos5': 100, 'pos3': 150, 'strand': '+', 'is_mapped': True, 'is_unique': True},\n",
    "    {'chrom': 'chr2', 'pos':200, 'pos5': 200, 'pos3': 250, 'strand': '+', 'is_mapped': True, 'is_unique': True},\n",
    "    {'chrom': 'chr3', 'pos':300, 'pos5': 300, 'pos3': 350, 'strand': '+', 'is_mapped': True, 'is_unique': True}\n",
    "]\n",
    "algns2 = [\n",
    "    {'chrom': 'chr3', 'pos':300, 'pos5': 400, 'pos3': 300, 'strand': '-', 'is_mapped': True, 'is_unique': True},\n",
    "    {'chrom': 'chr2', 'pos':200, 'pos5': 250, 'pos3': 200, 'strand': '-', 'is_mapped': True, 'is_unique': True}\n",
    "]"
   ]
  },
  {
   "cell_type": "code",
   "execution_count": 5,
   "metadata": {},
   "outputs": [],
   "source": [
    "assert ends_do_overlap(algns1[-1], algns2[-1], max_molecule_size, allowed_offset)==0"
   ]
  },
  {
   "cell_type": "code",
   "execution_count": 6,
   "metadata": {},
   "outputs": [],
   "source": [
    "assert ends_do_overlap(algns1[-2], algns2[-1], max_molecule_size, allowed_offset)==1"
   ]
  },
  {
   "cell_type": "code",
   "execution_count": 7,
   "metadata": {},
   "outputs": [],
   "source": [
    "assert pairs_do_overlap((algns1[-2], algns1[-1]), (algns2[-2], algns2[-1]), allowed_offset)==1"
   ]
  },
  {
   "cell_type": "code",
   "execution_count": 8,
   "metadata": {
    "scrolled": true
   },
   "outputs": [
    {
     "name": "stdout",
     "output_type": "stream",
     "text": [
      ". chr2 200 chr3 300 + + JJ 200 300 250 350\n",
      ". chr1 100 chr2 200 + + JJ 100 200 150 250\n"
     ]
    }
   ],
   "source": [
    "# SAM reporing format: \n",
    "# readID chrom1 pos1 chrom2 pos2 strand1 strand2 pair_type pos51 pos52 pos31 pos32\n",
    "for algn1, algn2, algns1, algns2 in rescue_complex_walk(algns1, algns2, max_molecule_size, allowed_offset):\n",
    "    print(report_simple_pairsam(algn1, algn2))"
   ]
  },
  {
   "cell_type": "markdown",
   "metadata": {},
   "source": [
    "### Test case 1 inverted\n",
    "\n",
    "Let's change forward and reverse reads"
   ]
  },
  {
   "cell_type": "code",
   "execution_count": 9,
   "metadata": {},
   "outputs": [],
   "source": [
    "algns2 = [\n",
    "    {'chrom': 'chr1', 'pos':100, 'pos5': 100, 'pos3': 150, 'strand': '+', 'is_mapped': True, 'is_unique': True},\n",
    "    {'chrom': 'chr2', 'pos':200, 'pos5': 200, 'pos3': 250, 'strand': '+', 'is_mapped': True, 'is_unique': True},\n",
    "    {'chrom': 'chr3', 'pos':300, 'pos5': 300, 'pos3': 350, 'strand': '+', 'is_mapped': True, 'is_unique': True}\n",
    "]\n",
    "algns1 = [\n",
    "    {'chrom': 'chr3', 'pos':300, 'pos5': 400, 'pos3': 300, 'strand': '-', 'is_mapped': True, 'is_unique': True},\n",
    "    {'chrom': 'chr2', 'pos':200, 'pos5': 250, 'pos3': 200, 'strand': '-', 'is_mapped': True, 'is_unique': True}\n",
    "]"
   ]
  },
  {
   "cell_type": "code",
   "execution_count": 10,
   "metadata": {},
   "outputs": [],
   "source": [
    "assert ends_do_overlap(algns1[-1], algns2[-1], max_molecule_size, allowed_offset)==0"
   ]
  },
  {
   "cell_type": "code",
   "execution_count": 11,
   "metadata": {},
   "outputs": [],
   "source": [
    "assert ends_do_overlap(algns1[-2], algns2[-1], max_molecule_size, allowed_offset)==1"
   ]
  },
  {
   "cell_type": "code",
   "execution_count": 12,
   "metadata": {},
   "outputs": [],
   "source": [
    "assert pairs_do_overlap((algns1[-2], algns1[-1]), (algns2[-2], algns2[-1]), allowed_offset)==1"
   ]
  },
  {
   "cell_type": "code",
   "execution_count": 13,
   "metadata": {
    "scrolled": true
   },
   "outputs": [
    {
     "name": "stdout",
     "output_type": "stream",
     "text": [
      ". chr3 300 chr2 200 - - JJ 400 250 300 200\n",
      ". chr1 100 chr2 200 + + JJ 100 200 150 250\n"
     ]
    }
   ],
   "source": [
    "# SAM reporing format: \n",
    "# readID chrom1 pos1 chrom2 pos2 strand1 strand2 pair_type pos51 pos52 pos31 pos32\n",
    "for algn1, algn2, algns1, algns2 in rescue_complex_walk(algns1, algns2, max_molecule_size, allowed_offset):\n",
    "    print(report_simple_pairsam(algn1, algn2))"
   ]
  },
  {
   "cell_type": "markdown",
   "metadata": {},
   "source": [
    "### Test case 2\n",
    "\n",
    "<img src=\"TestCase2.png\" width=\"70%\" />"
   ]
  },
  {
   "cell_type": "code",
   "execution_count": 14,
   "metadata": {},
   "outputs": [],
   "source": [
    "algns1 = [\n",
    "    {'chrom': 'chr1', 'pos':100, 'pos5': 100, 'pos3': 150, 'strand': '+', 'is_mapped': True, 'is_unique': True},\n",
    "    {'chrom': 'chr2', 'pos':200, 'pos5': 200, 'pos3': 250, 'strand': '+', 'is_mapped': True, 'is_unique': True},\n",
    "    {'chrom': 'chr3', 'pos':300, 'pos5': 300, 'pos3': 350, 'strand': '+', 'is_mapped': True, 'is_unique': True},\n",
    "    {'chrom': 'chr4', 'pos':400, 'pos5': 400, 'pos3': 450, 'strand': '+', 'is_mapped': True, 'is_unique': True}\n",
    "]\n",
    "algns2 = [\n",
    "    {'chrom': 'chr4', 'pos':400, 'pos5': 500, 'pos3': 400, 'strand': '-', 'is_mapped': True, 'is_unique': True},\n",
    "    {'chrom': 'chr3', 'pos':300, 'pos5': 350, 'pos3': 300, 'strand': '-', 'is_mapped': True, 'is_unique': True},\n",
    "    {'chrom': 'chr2', 'pos':200, 'pos5': 250, 'pos3': 200, 'strand': '-', 'is_mapped': True, 'is_unique': True}\n",
    "]"
   ]
  },
  {
   "cell_type": "code",
   "execution_count": 15,
   "metadata": {},
   "outputs": [],
   "source": [
    "assert ends_do_overlap(algns1[-1], algns2[-1], max_molecule_size, allowed_offset)==0\n",
    "assert ends_do_overlap(algns1[-2], algns2[-1], max_molecule_size, allowed_offset)==0\n",
    "assert ends_do_overlap(algns1[-3], algns2[-1], max_molecule_size, allowed_offset)==1"
   ]
  },
  {
   "cell_type": "code",
   "execution_count": 16,
   "metadata": {},
   "outputs": [],
   "source": [
    "assert pairs_do_overlap((algns1[-2], algns1[-1]), (algns2[-2], algns2[-1]), allowed_offset)==0\n",
    "assert pairs_do_overlap((algns1[-3], algns1[-2]), (algns2[-2], algns2[-1]), allowed_offset)==1"
   ]
  },
  {
   "cell_type": "code",
   "execution_count": 17,
   "metadata": {
    "scrolled": false
   },
   "outputs": [
    {
     "name": "stdout",
     "output_type": "stream",
     "text": [
      ". chr3 300 chr4 400 + + JJ 300 400 350 450\n",
      ". chr2 200 chr3 300 + + JJ 200 300 250 350\n",
      ". chr1 100 chr2 200 + + JJ 100 200 150 250\n"
     ]
    }
   ],
   "source": [
    "# SAM reporing format: \n",
    "# readID chrom1 pos1 chrom2 pos2 strand1 strand2 pair_type pos51 pos52 pos31 pos32\n",
    "for algn1, algn2, algns1, algns2 in rescue_complex_walk(algns1, algns2, max_molecule_size, allowed_offset):\n",
    "    print(report_simple_pairsam(algn1, algn2))"
   ]
  },
  {
   "cell_type": "markdown",
   "metadata": {},
   "source": [
    "### Test case 2 inverted\n",
    "\n",
    "Let's change forward and reverse reads"
   ]
  },
  {
   "cell_type": "code",
   "execution_count": 18,
   "metadata": {},
   "outputs": [],
   "source": [
    "algns2 = [\n",
    "    {'chrom': 'chr1', 'pos':100, 'pos5': 100, 'pos3': 150, 'strand': '+', 'is_mapped': True, 'is_unique': True},\n",
    "    {'chrom': 'chr2', 'pos':200, 'pos5': 200, 'pos3': 250, 'strand': '+', 'is_mapped': True, 'is_unique': True},\n",
    "    {'chrom': 'chr3', 'pos':300, 'pos5': 300, 'pos3': 350, 'strand': '+', 'is_mapped': True, 'is_unique': True},\n",
    "    {'chrom': 'chr4', 'pos':400, 'pos5': 400, 'pos3': 450, 'strand': '+', 'is_mapped': True, 'is_unique': True}\n",
    "]\n",
    "algns1 = [\n",
    "    {'chrom': 'chr4', 'pos':400, 'pos5': 500, 'pos3': 400, 'strand': '-', 'is_mapped': True, 'is_unique': True},\n",
    "    {'chrom': 'chr3', 'pos':300, 'pos5': 350, 'pos3': 300, 'strand': '-', 'is_mapped': True, 'is_unique': True},\n",
    "    {'chrom': 'chr2', 'pos':200, 'pos5': 250, 'pos3': 200, 'strand': '-', 'is_mapped': True, 'is_unique': True}\n",
    "]"
   ]
  },
  {
   "cell_type": "code",
   "execution_count": 19,
   "metadata": {},
   "outputs": [],
   "source": [
    "assert ends_do_overlap(algns1[-1], algns2[-1], max_molecule_size, allowed_offset)==0\n",
    "assert ends_do_overlap(algns1[-2], algns2[-1], max_molecule_size, allowed_offset)==0\n",
    "assert ends_do_overlap(algns1[-3], algns2[-1], max_molecule_size, allowed_offset)==1"
   ]
  },
  {
   "cell_type": "code",
   "execution_count": 20,
   "metadata": {},
   "outputs": [],
   "source": [
    "assert pairs_do_overlap((algns1[-2], algns1[-1]), (algns2[-2], algns2[-1]), allowed_offset)==0\n",
    "assert pairs_do_overlap((algns1[-3], algns1[-2]), (algns2[-2], algns2[-1]), allowed_offset)==1"
   ]
  },
  {
   "cell_type": "code",
   "execution_count": 21,
   "metadata": {
    "scrolled": false
   },
   "outputs": [
    {
     "name": "stdout",
     "output_type": "stream",
     "text": [
      ". chr3 300 chr2 200 - - JJ 350 250 300 200\n",
      ". chr4 400 chr3 300 - - JJ 500 350 400 300\n",
      ". chr1 100 chr2 200 + + JJ 100 200 150 250\n"
     ]
    }
   ],
   "source": [
    "# SAM reporing format: \n",
    "# readID chrom1 pos1 chrom2 pos2 strand1 strand2 pair_type pos51 pos52 pos31 pos32\n",
    "for algn1, algn2, algns1, algns2 in rescue_complex_walk(algns1, algns2, max_molecule_size, allowed_offset):\n",
    "    print(report_simple_pairsam(algn1, algn2))"
   ]
  },
  {
   "cell_type": "markdown",
   "metadata": {},
   "source": [
    "### Test case 2.a\n",
    "\n",
    "Strands mixed\n",
    "\n",
    "\n",
    "<img src=\"TestCase2a.png\" width=\"70%\" />"
   ]
  },
  {
   "cell_type": "code",
   "execution_count": 22,
   "metadata": {},
   "outputs": [],
   "source": [
    "algns1 = [\n",
    "    {'chrom': 'chr1', 'pos':100, 'pos5': 100, 'pos3': 150, 'strand': '+', 'is_mapped': True, 'is_unique': True},\n",
    "    {'chrom': 'chr2', 'pos':200, 'pos5': 250, 'pos3': 200, 'strand': '-', 'is_mapped': True, 'is_unique': True},\n",
    "    {'chrom': 'chr3', 'pos':300, 'pos5': 300, 'pos3': 350, 'strand': '+', 'is_mapped': True, 'is_unique': True},\n",
    "    {'chrom': 'chr4', 'pos':400, 'pos5': 450, 'pos3': 400, 'strand': '-', 'is_mapped': True, 'is_unique': True}\n",
    "]\n",
    "algns2 = [\n",
    "    {'chrom': 'chr4', 'pos':400, 'pos5': 400, 'pos3': 450, 'strand': '+', 'is_mapped': True, 'is_unique': True},\n",
    "    {'chrom': 'chr3', 'pos':300, 'pos5': 350, 'pos3': 300, 'strand': '-', 'is_mapped': True, 'is_unique': True},\n",
    "    {'chrom': 'chr2', 'pos':200, 'pos5': 200, 'pos3': 250, 'strand': '+', 'is_mapped': True, 'is_unique': True}\n",
    "]"
   ]
  },
  {
   "cell_type": "code",
   "execution_count": 23,
   "metadata": {},
   "outputs": [],
   "source": [
    "assert ends_do_overlap(algns1[-1], algns2[-1], max_molecule_size, allowed_offset)==0\n",
    "assert ends_do_overlap(algns1[-2], algns2[-1], max_molecule_size, allowed_offset)==0\n",
    "assert ends_do_overlap(algns1[-3], algns2[-1], max_molecule_size, allowed_offset)==1"
   ]
  },
  {
   "cell_type": "code",
   "execution_count": 24,
   "metadata": {},
   "outputs": [],
   "source": [
    "assert pairs_do_overlap((algns1[-2], algns1[-1]), (algns2[-2], algns2[-1]), allowed_offset)==0\n",
    "assert pairs_do_overlap((algns1[-3], algns1[-2]), (algns2[-2], algns2[-1]), allowed_offset)==1"
   ]
  },
  {
   "cell_type": "code",
   "execution_count": 25,
   "metadata": {
    "scrolled": false
   },
   "outputs": [
    {
     "name": "stdout",
     "output_type": "stream",
     "text": [
      ". chr3 300 chr4 400 + - JJ 300 450 350 400\n",
      ". chr2 200 chr3 300 - + JJ 250 300 200 350\n",
      ". chr1 100 chr2 200 + - JJ 100 250 150 200\n"
     ]
    }
   ],
   "source": [
    "# SAM reporing format: \n",
    "# readID chrom1 pos1 chrom2 pos2 strand1 strand2 pair_type pos51 pos52 pos31 pos32\n",
    "for algn1, algn2, algns1, algns2 in rescue_complex_walk(algns1, algns2, max_molecule_size, allowed_offset):\n",
    "    print(report_simple_pairsam(algn1, algn2))"
   ]
  },
  {
   "cell_type": "markdown",
   "metadata": {},
   "source": [
    "### Test case 3\n",
    "\n",
    "Not an overlap (a walk with mismatch at the end of forward read).\n",
    "\n",
    "\n",
    "<img src=\"TestCase3.png\" width=\"70%\" />"
   ]
  },
  {
   "cell_type": "code",
   "execution_count": 26,
   "metadata": {},
   "outputs": [],
   "source": [
    "algns1 = [\n",
    "    {'chrom': 'chr1', 'pos':100, 'pos5': 100, 'pos3': 150, 'strand': '+', 'is_mapped': True, 'is_unique': True},\n",
    "    {'chrom': 'chr2', 'pos':200, 'pos5': 200, 'pos3': 250, 'strand': '+', 'is_mapped': True, 'is_unique': True},\n",
    "    {'chrom': 'chr3', 'pos':300, 'pos5': 300, 'pos3': 350, 'strand': '+', 'is_mapped': True, 'is_unique': True},\n",
    "    {'chrom': 'chr5', 'pos':500, 'pos5': 550, 'pos3': 500, 'strand': '-', 'is_mapped': True, 'is_unique': True}\n",
    "]\n",
    "algns2 = [\n",
    "    {'chrom': 'chr4', 'pos':400, 'pos5': 500, 'pos3': 400, 'strand': '-', 'is_mapped': True, 'is_unique': True},\n",
    "    {'chrom': 'chr3', 'pos':300, 'pos5': 350, 'pos3': 300, 'strand': '-', 'is_mapped': True, 'is_unique': True},\n",
    "    {'chrom': 'chr2', 'pos':200, 'pos5': 250, 'pos3': 200, 'strand': '-', 'is_mapped': True, 'is_unique': True}\n",
    "]"
   ]
  },
  {
   "cell_type": "code",
   "execution_count": 27,
   "metadata": {},
   "outputs": [],
   "source": [
    "assert ends_do_overlap(algns1[-1], algns2[-1], max_molecule_size, allowed_offset)==0\n",
    "assert ends_do_overlap(algns1[-2], algns2[-1], max_molecule_size, allowed_offset)==0\n",
    "assert ends_do_overlap(algns1[-3], algns2[-1], max_molecule_size, allowed_offset)==1"
   ]
  },
  {
   "cell_type": "code",
   "execution_count": 28,
   "metadata": {},
   "outputs": [],
   "source": [
    "assert pairs_do_overlap((algns1[-2], algns1[-1]), (algns2[-2], algns2[-1]), allowed_offset)==0\n",
    "assert pairs_do_overlap((algns1[-3], algns1[-2]), (algns2[-2], algns2[-1]), allowed_offset)==1"
   ]
  },
  {
   "cell_type": "code",
   "execution_count": 29,
   "metadata": {
    "scrolled": true
   },
   "outputs": [
    {
     "name": "stdout",
     "output_type": "stream",
     "text": [
      ". chr5 500 chr2 200 - - PP 550 250 500 200\n",
      ". chr3 300 chr5 500 + - JJ 300 550 350 500\n",
      ". chr2 200 chr3 300 + + JJ 200 300 250 350\n",
      ". chr1 100 chr2 200 + + JJ 100 200 150 250\n",
      ". chr3 300 chr2 200 - - JJ 350 250 300 200\n",
      ". chr4 400 chr3 300 - - JJ 500 350 400 300\n"
     ]
    }
   ],
   "source": [
    "# SAM reporing format: \n",
    "# readID chrom1 pos1 chrom2 pos2 strand1 strand2 pair_type pos51 pos52 pos31 pos32\n",
    "for algn1, algn2, algns1, algns2 in rescue_complex_walk(algns1, algns2, max_molecule_size, allowed_offset):\n",
    "    print(report_simple_pairsam(algn1, algn2))"
   ]
  },
  {
   "cell_type": "markdown",
   "metadata": {},
   "source": [
    "### Test case 4\n",
    "\n",
    "Mismapped chimeras are treated as match. There is no need to report too much pairs with mismatches.\n",
    "\n",
    "<img src=\"TestCase4.png\" width=\"70%\" />"
   ]
  },
  {
   "cell_type": "code",
   "execution_count": 30,
   "metadata": {},
   "outputs": [],
   "source": [
    "algns1 = [\n",
    "    {'chrom': 'chr1', 'pos':100, 'pos5': 100, 'pos3': 150, 'strand': '+', 'is_mapped': True, 'is_unique': True},\n",
    "    {'chrom': 'chr2', 'pos':200, 'pos5': 200, 'pos3': 250, 'strand': '+', 'is_mapped': True, 'is_unique': True},\n",
    "    {'chrom': 'chr3', 'pos':300, 'pos5': 300, 'pos3': 350, 'strand': '+', 'is_mapped': True, 'is_unique': True},\n",
    "    {'chrom': '!',    'pos':0,   'pos5': 0,   'pos3': 0,   'strand': '-', 'is_mapped': False,'is_unique': True}\n",
    "]\n",
    "algns2 = [\n",
    "    {'chrom': '!',    'pos':0,   'pos5': 0,   'pos3': 0,   'strand': '-', 'is_mapped': False,'is_unique': True},\n",
    "    {'chrom': 'chr3', 'pos':300, 'pos5': 350, 'pos3': 300, 'strand': '-', 'is_mapped': True, 'is_unique': True},\n",
    "    {'chrom': 'chr2', 'pos':200, 'pos5': 250, 'pos3': 200, 'strand': '-', 'is_mapped': True, 'is_unique': True}\n",
    "]"
   ]
  },
  {
   "cell_type": "code",
   "execution_count": 31,
   "metadata": {},
   "outputs": [],
   "source": [
    "assert ends_do_overlap(algns1[-1], algns2[-1], max_molecule_size, allowed_offset)==0\n",
    "assert ends_do_overlap(algns1[-2], algns2[-1], max_molecule_size, allowed_offset)==0\n",
    "assert ends_do_overlap(algns1[-3], algns2[-1], max_molecule_size, allowed_offset)==1"
   ]
  },
  {
   "cell_type": "code",
   "execution_count": 32,
   "metadata": {},
   "outputs": [],
   "source": [
    "assert pairs_do_overlap((algns1[-2], algns1[-1]), (algns2[-2], algns2[-1]), allowed_offset)==0\n",
    "assert pairs_do_overlap((algns1[-3], algns1[-2]), (algns2[-2], algns2[-1]), allowed_offset)==1"
   ]
  },
  {
   "cell_type": "code",
   "execution_count": 33,
   "metadata": {
    "scrolled": false
   },
   "outputs": [
    {
     "name": "stdout",
     "output_type": "stream",
     "text": [
      ". chr3 300 ! 0 + - JN 300 0 350 0\n",
      ". chr2 200 chr3 300 + + JJ 200 300 250 350\n",
      ". chr1 100 chr2 200 + + JJ 100 200 150 250\n"
     ]
    }
   ],
   "source": [
    "# SAM reporing format: \n",
    "# readID chrom1 pos1 chrom2 pos2 strand1 strand2 pair_type pos51 pos52 pos31 pos32\n",
    "for algn1, algn2, algns1, algns2 in rescue_complex_walk(algns1, algns2, max_molecule_size, allowed_offset):\n",
    "    print(report_simple_pairsam(algn1, algn2))"
   ]
  },
  {
   "cell_type": "markdown",
   "metadata": {},
   "source": [
    "### Test case 4.a\n",
    "\n",
    "Mismapped chimeras are treated as match. What if we introduce more of them?\n",
    "\n",
    "\n",
    "<img src=\"TestCase5.png\" width=\"70%\" />"
   ]
  },
  {
   "cell_type": "code",
   "execution_count": 34,
   "metadata": {},
   "outputs": [],
   "source": [
    "algns1 = [\n",
    "    {'chrom': 'chr1', 'pos':100, 'pos5': 100, 'pos3': 150, 'strand': '+', 'is_mapped': True, 'is_unique': True},\n",
    "    {'chrom': '!',    'pos':0,   'pos5': 0,   'pos3': 0,   'strand': '-', 'is_mapped': False,'is_unique': True},\n",
    "    {'chrom': 'chr3', 'pos':300, 'pos5': 300, 'pos3': 350, 'strand': '+', 'is_mapped': True, 'is_unique': True},\n",
    "    {'chrom': '!',    'pos':0,   'pos5': 0,   'pos3': 0,   'strand': '-', 'is_mapped': False,'is_unique': True}\n",
    "]\n",
    "algns2 = [\n",
    "    {'chrom': '!',    'pos':0,   'pos5': 0,   'pos3': 0,   'strand': '-', 'is_mapped': False,'is_unique': True},\n",
    "    {'chrom': 'chr3', 'pos':300, 'pos5': 350, 'pos3': 300, 'strand': '-', 'is_mapped': True, 'is_unique': True},\n",
    "    {'chrom': '!',    'pos':0,   'pos5': 0,   'pos3': 0,   'strand': '-', 'is_mapped': False,'is_unique': True}\n",
    "]"
   ]
  },
  {
   "cell_type": "code",
   "execution_count": 35,
   "metadata": {},
   "outputs": [],
   "source": [
    "assert ends_do_overlap(algns1[-1], algns2[-1], max_molecule_size, allowed_offset)==1 # Note this difference\n",
    "assert ends_do_overlap(algns1[-2], algns2[-1], max_molecule_size, allowed_offset)==0\n",
    "assert ends_do_overlap(algns1[-3], algns2[-1], max_molecule_size, allowed_offset)==1"
   ]
  },
  {
   "cell_type": "code",
   "execution_count": 36,
   "metadata": {},
   "outputs": [],
   "source": [
    "assert pairs_do_overlap((algns1[-2], algns1[-1]), (algns2[-2], algns2[-1]), allowed_offset)==0\n",
    "assert pairs_do_overlap((algns1[-3], algns1[-2]), (algns2[-2], algns2[-1]), allowed_offset)==1"
   ]
  },
  {
   "cell_type": "code",
   "execution_count": 37,
   "metadata": {
    "scrolled": true
   },
   "outputs": [
    {
     "name": "stdout",
     "output_type": "stream",
     "text": [
      ". chr3 300 ! 0 + - JN 300 0 350 0\n",
      ". ! 0 chr3 300 - + NJ 0 300 0 350\n",
      ". chr1 100 ! 0 + - JN 100 0 150 0\n"
     ]
    }
   ],
   "source": [
    "# SAM reporing format: \n",
    "# readID chrom1 pos1 chrom2 pos2 strand1 strand2 pair_type pos51 pos52 pos31 pos32\n",
    "for algn1, algn2, algns1, algns2 in rescue_complex_walk(algns1, algns2, max_molecule_size, allowed_offset):\n",
    "    print(report_simple_pairsam(algn1, algn2))"
   ]
  }
 ],
 "metadata": {
  "kernelspec": {
   "display_name": "pairtools",
   "language": "python",
   "name": "pairtools"
  },
  "language_info": {
   "codemirror_mode": {
    "name": "ipython",
    "version": 3
   },
   "file_extension": ".py",
   "mimetype": "text/x-python",
   "name": "python",
   "nbconvert_exporter": "python",
   "pygments_lexer": "ipython3",
   "version": "3.7.8"
  }
 },
 "nbformat": 4,
 "nbformat_minor": 2
}
